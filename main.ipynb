{
 "cells": [
  {
   "cell_type": "code",
   "execution_count": 8,
   "metadata": {},
   "outputs": [],
   "source": [
    "#Bibliotecas\n",
    "import time\n",
    "import emoji as emj"
   ]
  },
  {
   "cell_type": "code",
   "execution_count": 7,
   "metadata": {},
   "outputs": [],
   "source": [
    "#Constantes\n",
    "\n",
    "MSG_DE_APRESENTACAO = emj.emojize(\"Olá, Seja bem vindo ao Banco Vermelho!\\nSerá um prazer atender. :winking_face:\")\n",
    "MSG_DE_ENCERRAMENTO = emj.emojize(\"Foi um enorme prazer te atender. Até a proxima :slightly_smiling_face:\")\n"
   ]
  },
  {
   "cell_type": "code",
   "execution_count": 11,
   "metadata": {},
   "outputs": [],
   "source": [
    "#Variáveis\n",
    "\n",
    "saldo = 0.0\n",
    "saque = 0.0\n",
    "deposito = 0.0\n",
    "tipo_conta = \"\"\n",
    "contas_registradas = {12346 : \"Henrique\", 567891 : \"Eulalia\", 111213 : \"Leonardo\" }"
   ]
  },
  {
   "cell_type": "code",
   "execution_count": null,
   "metadata": {},
   "outputs": [],
   "source": [
    "#Funções\n",
    "\n",
    "def verificar_conta(numero_conta):\n",
    "    while len(str(numero_conta) == 6):\n",
    "        if numero_conta in contas_registradas:\n",
    "            print(emj.emojize(f\"Olá {contas_registradas[numero_conta]} que bom ter você de volta :smiling_face_with_smiling_eyes:\"))\n",
    "        else:\n",
    "            print(emj.emojize(\"Parece que você digitou um número de conta invalido. Por favor tente novamente :smiling_face_with_smiling_eyes:\"))\n",
    "    else:\n",
    "        print(emj.emojize(\"Lembre-se que o número de sua conta deve ter exatamente 6 digitos :winking_face:\"))"
   ]
  },
  {
   "cell_type": "code",
   "execution_count": 9,
   "metadata": {},
   "outputs": [
    {
     "name": "stdout",
     "output_type": "stream",
     "text": [
      "Olá, Seja bem vindo ao Banco Vermelho!\n",
      "Será um prazer atender. 😉\n",
      "Precione qualquer tecla, para que possamos proseguir!\n"
     ]
    },
    {
     "data": {
      "text/plain": [
       "''"
      ]
     },
     "execution_count": 9,
     "metadata": {},
     "output_type": "execute_result"
    }
   ],
   "source": [
    "#Programa principal\n",
    "\n",
    "print(MSG_DE_APRESENTACAO)\n",
    "time.sleep(1)\n",
    "input(print(\"Precione qualquer tecla, para que possamos proseguir!\"))\n",
    "\n",
    "\n"
   ]
  }
 ],
 "metadata": {
  "kernelspec": {
   "display_name": "Python 3",
   "language": "python",
   "name": "python3"
  },
  "language_info": {
   "codemirror_mode": {
    "name": "ipython",
    "version": 3
   },
   "file_extension": ".py",
   "mimetype": "text/x-python",
   "name": "python",
   "nbconvert_exporter": "python",
   "pygments_lexer": "ipython3",
   "version": "3.11.7"
  }
 },
 "nbformat": 4,
 "nbformat_minor": 2
}
