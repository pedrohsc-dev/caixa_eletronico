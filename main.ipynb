{
 "cells": [
  {
   "cell_type": "code",
   "execution_count": 8,
   "metadata": {},
   "outputs": [],
   "source": [
    "#Bibliotecas\n",
    "import time\n",
    "import emoji as emj"
   ]
  },
  {
   "cell_type": "code",
   "execution_count": 7,
   "metadata": {},
   "outputs": [],
   "source": [
    "#Constantes\n",
    "\n",
    "MSG_DE_APRESENTACAO = emj.emojize(\"Olá, Seja bem vindo ao Banco Vermelho!\\nSerá um prazer atender. :winking_face:\")\n",
    "MSG_DE_ENCERRAMENTO = emj.emojize(\"Foi um enorme prazer te atender. Até a proxima :slightly_smiling_face:\")\n"
   ]
  },
  {
   "cell_type": "code",
   "execution_count": 14,
   "metadata": {},
   "outputs": [],
   "source": [
    "#Variáveis\n",
    "\n",
    "saldo = 0.0\n",
    "saque = 0.0\n",
    "deposito = 0.0\n",
    "tipo_conta = \"\"\n",
    "verificacao_cliente = \"\"\n",
    "tornar_cliente = \"\"\n",
    "contas_registradas = {12346 : \"Henrique\", 567891 : \"Eulalia\", 111213 : \"Leonardo\" }"
   ]
  },
  {
   "cell_type": "code",
   "execution_count": 12,
   "metadata": {},
   "outputs": [],
   "source": [
    "#Funções\n",
    "\n",
    "def verificar_conta():\n",
    "    while len(str(numero_conta) == 6):\n",
    "        if numero_conta in contas_registradas:\n",
    "            print(emj.emojize(f\"Olá {contas_registradas[numero_conta]} que bom ter você de volta :smiling_face_with_smiling_eyes:\"))\n",
    "        else:\n",
    "            print(emj.emojize(\"Parece que você digitou um número de conta invalido. Por favor tente novamente :smiling_face_with_smiling_eyes:\"))\n",
    "    else:\n",
    "        print(emj.emojize(\"Lembre-se que o número de sua conta deve ter exatamente 6 digitos :winking_face:\"))"
   ]
  },
  {
   "cell_type": "code",
   "execution_count": 18,
   "metadata": {},
   "outputs": [
    {
     "name": "stdout",
     "output_type": "stream",
     "text": [
      "Olá, Seja bem vindo ao Banco Vermelho!\n",
      "Será um prazer atender. 😉\n",
      "Precione qualquer tecla, para que possamos proseguir!\n",
      "Você já é um dos nossos clientes?\n",
      "Responda com sim ou não.\n",
      "Por favor informe seu número da conta: \n"
     ]
    },
    {
     "ename": "TypeError",
     "evalue": "verificar_conta() missing 1 required positional argument: 'numero_conta'",
     "output_type": "error",
     "traceback": [
      "\u001b[1;31m---------------------------------------------------------------------------\u001b[0m",
      "\u001b[1;31mTypeError\u001b[0m                                 Traceback (most recent call last)",
      "Cell \u001b[1;32mIn[18], line 19\u001b[0m\n\u001b[0;32m     12\u001b[0m     tornar_cliente \u001b[38;5;241m=\u001b[39m \u001b[38;5;28minput\u001b[39m(\u001b[38;5;28mprint\u001b[39m(\u001b[38;5;124m\"\u001b[39m\u001b[38;5;124mDeseja se tornar mais um de nossos clientes?\u001b[39m\u001b[38;5;130;01m\\n\u001b[39;00m\u001b[38;5;124mResponda com sim ou não.\u001b[39m\u001b[38;5;124m\"\u001b[39m))\n\u001b[0;32m     13\u001b[0m \u001b[38;5;66;03m#if tornar_cliente.upper() == \"SIM\":\u001b[39;00m\n\u001b[0;32m     14\u001b[0m  \u001b[38;5;66;03m#   novo_cliente_nome = input(print(\"Então por favor informe seu nome:\"))\u001b[39;00m\n\u001b[0;32m     15\u001b[0m   \u001b[38;5;66;03m#  novo_cliente_cpf = input(str(print(\"Por favor me informe o número de seu cpf:\")))\u001b[39;00m\n\u001b[0;32m     16\u001b[0m    \u001b[38;5;66;03m# novo_cliente_rg = input(str(print(\"Por favor me informe seu RG:\")))\u001b[39;00m\n\u001b[0;32m     17\u001b[0m \u001b[38;5;66;03m#else:\u001b[39;00m\n\u001b[0;32m     18\u001b[0m     \u001b[38;5;66;03m#print(MSG_DE_ENCERRAMENTO)    \u001b[39;00m\n\u001b[1;32m---> 19\u001b[0m \u001b[43mverificar_conta\u001b[49m\u001b[43m(\u001b[49m\u001b[43m)\u001b[49m\n",
      "\u001b[1;31mTypeError\u001b[0m: verificar_conta() missing 1 required positional argument: 'numero_conta'"
     ]
    }
   ],
   "source": [
    "#Programa principal\n",
    "\n",
    "print(MSG_DE_APRESENTACAO)\n",
    "time.sleep(1)\n",
    "input(print(\"Precione qualquer tecla, para que possamos proseguir!\"))\n",
    "time.sleep(1)\n",
    "verificacao_cliente = input(print(\"Você já é um dos nossos clientes?\\nResponda com sim ou não.\"))\n",
    "time.sleep(1)\n",
    "if verificacao_cliente.upper() == \"SIM\":\n",
    "    numero_conta = input(print(\"Por favor informe seu número da conta: \"))\n",
    "else:\n",
    "    tornar_cliente = input(print(\"Deseja se tornar mais um de nossos clientes?\\nResponda com sim ou não.\"))\n",
    "#if tornar_cliente.upper() == \"SIM\":\n",
    " #   novo_cliente_nome = input(print(\"Então por favor informe seu nome:\"))\n",
    "  #  novo_cliente_cpf = input(str(print(\"Por favor me informe o número de seu cpf:\")))\n",
    "   # novo_cliente_rg = input(str(print(\"Por favor me informe seu RG:\")))\n",
    "#else:\n",
    "    #print(MSG_DE_ENCERRAMENTO)    \n",
    "verificar_conta()\n",
    "\n"
   ]
  },
  {
   "cell_type": "code",
   "execution_count": null,
   "metadata": {},
   "outputs": [],
   "source": []
  }
 ],
 "metadata": {
  "kernelspec": {
   "display_name": "Python 3",
   "language": "python",
   "name": "python3"
  },
  "language_info": {
   "codemirror_mode": {
    "name": "ipython",
    "version": 3
   },
   "file_extension": ".py",
   "mimetype": "text/x-python",
   "name": "python",
   "nbconvert_exporter": "python",
   "pygments_lexer": "ipython3",
   "version": "3.11.7"
  }
 },
 "nbformat": 4,
 "nbformat_minor": 2
}
